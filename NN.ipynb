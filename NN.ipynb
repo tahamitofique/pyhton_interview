{
 "cells": [
  {
   "cell_type": "code",
   "execution_count": 27,
   "metadata": {},
   "outputs": [],
   "source": [
    "import pandas as pd\n",
    "import numpy as np\n",
    "import os\n",
    "import cv2\n",
    "import matplotlib.pyplot as plt\n",
    "import warnings"
   ]
  },
  {
   "cell_type": "code",
   "execution_count": 28,
   "metadata": {},
   "outputs": [],
   "source": [
    "from tensorflow.keras.layers import Input, Lambda, Dense, Flatten, Dropout\n",
    "from tensorflow.keras.models import Model\n",
    "from tensorflow.keras.preprocessing import image, image_dataset_from_directory\n",
    "from tensorflow.keras.preprocessing.image import ImageDataGenerator\n",
    "from tensorflow.keras.models import Sequential\n",
    "from tensorflow import keras\n",
    "import tensorflow"
   ]
  },
  {
   "cell_type": "code",
   "execution_count": 29,
   "metadata": {},
   "outputs": [
    {
     "data": {
      "text/plain": [
       "False"
      ]
     },
     "execution_count": 29,
     "metadata": {},
     "output_type": "execute_result"
    }
   ],
   "source": [
    "tensorflow.test.is_gpu_available()"
   ]
  },
  {
   "cell_type": "code",
   "execution_count": 30,
   "metadata": {},
   "outputs": [],
   "source": [
    "#set seed value\n",
    "seed = 1842\n",
    "tensorflow.random.set_seed(seed)\n",
    "np.random.seed(seed)\n",
    "#turn off warning\n",
    "warnings.simplefilter('ignore')"
   ]
  },
  {
   "cell_type": "markdown",
   "metadata": {},
   "source": [
    "### Loading data"
   ]
  },
  {
   "cell_type": "code",
   "execution_count": 31,
   "metadata": {},
   "outputs": [
    {
     "name": "stdout",
     "output_type": "stream",
     "text": [
      "Found 430 images belonging to 2 classes.\n",
      "Found 106 images belonging to 2 classes.\n",
      "Found 100 images belonging to 1 classes.\n"
     ]
    }
   ],
   "source": [
    "#define the image dataset\n",
    "\n",
    "image_generator = ImageDataGenerator(rescale=1/255, validation_split=0.2)\n",
    "\n",
    "#train\n",
    "train_dataset = image_generator.flow_from_directory(batch_size=32,\n",
    "                                                   directory='data_cleaned/Train',\n",
    "                                                   shuffle=True,\n",
    "                                                   target_size=(224,224),\n",
    "                                                   subset=\"training\",\n",
    "                                                   class_mode='categorical')\n",
    "\n",
    "validation_dataset = image_generator.flow_from_directory(batch_size=32,\n",
    "                                                   directory='data_cleaned/Train',\n",
    "                                                   shuffle=True,\n",
    "                                                   target_size=(224,224),\n",
    "                                                   subset=\"validation\",\n",
    "                                                   class_mode='categorical')\n",
    "\n",
    "#organize data from our prediction\n",
    "image_generator_submission = ImageDataGenerator(rescale=1/255)\n",
    "submission = image_generator_submission.flow_from_directory(directory='data_cleaned/scraped_images',\n",
    "                                                            shuffle=False,\n",
    "                                                            target_size=(224,224),\n",
    "                                                            class_mode=None)"
   ]
  },
  {
   "cell_type": "markdown",
   "metadata": {},
   "source": [
    "## Build first classifier(CNN)"
   ]
  },
  {
   "cell_type": "code",
   "execution_count": 32,
   "metadata": {},
   "outputs": [],
   "source": [
    "model = keras.Sequential([\n",
    "    keras.layers.Conv2D(32, 3, activation='relu', input_shape=(224,224,3)),\n",
    "    #keras.layers.Conv2D(32, 3, activation='relu'),\n",
    "    keras.layers.Flatten(),\n",
    "    keras.layers.Dense(2, activation='softmax')\n",
    "    \n",
    "])\n",
    "\n",
    "model.compile(optimizer='adam',\n",
    "             loss='binary_crossentropy',\n",
    "             metrics=['accuracy'])\n",
    "\n",
    "callback = keras.callbacks.EarlyStopping(monitor='val_loss',\n",
    "                                        patience=3,\n",
    "                                        restore_best_weights=True)\n"
   ]
  },
  {
   "cell_type": "code",
   "execution_count": 33,
   "metadata": {},
   "outputs": [
    {
     "name": "stdout",
     "output_type": "stream",
     "text": [
      "Epoch 1/20\n",
      "14/14 [==============================] - 13s 843ms/step - loss: 8.0052 - accuracy: 0.5977 - val_loss: 0.2244 - val_accuracy: 0.9151\n",
      "Epoch 2/20\n",
      "14/14 [==============================] - 12s 820ms/step - loss: 1.3056 - accuracy: 0.8163 - val_loss: 0.1451 - val_accuracy: 0.9528\n",
      "Epoch 3/20\n",
      "14/14 [==============================] - 12s 822ms/step - loss: 0.4918 - accuracy: 0.8791 - val_loss: 0.1615 - val_accuracy: 0.9528\n",
      "Epoch 4/20\n",
      "14/14 [==============================] - 11s 808ms/step - loss: 0.1666 - accuracy: 0.9372 - val_loss: 0.0759 - val_accuracy: 0.9717\n",
      "Epoch 5/20\n",
      "14/14 [==============================] - 12s 818ms/step - loss: 0.0974 - accuracy: 0.9628 - val_loss: 0.0818 - val_accuracy: 0.9717\n",
      "Epoch 6/20\n",
      "14/14 [==============================] - 12s 821ms/step - loss: 0.0187 - accuracy: 0.9977 - val_loss: 0.1861 - val_accuracy: 0.9340\n",
      "Epoch 7/20\n",
      "14/14 [==============================] - 11s 814ms/step - loss: 0.0085 - accuracy: 1.0000 - val_loss: 0.0821 - val_accuracy: 0.9717\n"
     ]
    },
    {
     "data": {
      "text/plain": [
       "<keras.callbacks.History at 0x1a83828e700>"
      ]
     },
     "execution_count": 33,
     "metadata": {},
     "output_type": "execute_result"
    }
   ],
   "source": [
    "model.fit(train_dataset, epochs=20, validation_data=validation_dataset, callbacks=callback)"
   ]
  },
  {
   "cell_type": "code",
   "execution_count": 34,
   "metadata": {},
   "outputs": [
    {
     "name": "stdout",
     "output_type": "stream",
     "text": [
      "4/4 [==============================] - 1s 291ms/step - loss: 0.0759 - accuracy: 0.9717\n",
      "Loss:  0.07591324299573898\n",
      "Accuracy:  0.9716981053352356\n"
     ]
    }
   ],
   "source": [
    "loss,accuracy = model.evaluate(validation_dataset)\n",
    "print(\"Loss: \", loss)\n",
    "print(\"Accuracy: \", accuracy)"
   ]
  },
  {
   "cell_type": "code",
   "execution_count": null,
   "metadata": {},
   "outputs": [],
   "source": []
  }
 ],
 "metadata": {
  "kernelspec": {
   "display_name": "Python 3",
   "language": "python",
   "name": "python3"
  },
  "language_info": {
   "codemirror_mode": {
    "name": "ipython",
    "version": 3
   },
   "file_extension": ".py",
   "mimetype": "text/x-python",
   "name": "python",
   "nbconvert_exporter": "python",
   "pygments_lexer": "ipython3",
   "version": "3.8.5"
  }
 },
 "nbformat": 4,
 "nbformat_minor": 4
}
