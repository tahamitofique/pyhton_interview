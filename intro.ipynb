{
 "cells": [
  {
   "cell_type": "code",
   "execution_count": 5,
   "metadata": {},
   "outputs": [
    {
     "name": "stdout",
     "output_type": "stream",
     "text": [
      "HEllo\n"
     ]
    }
   ],
   "source": [
    "print(\"HEllo\")\n",
    "hello = \"hello\"\n",
    "name = 'tahami'"
   ]
  },
  {
   "cell_type": "code",
   "execution_count": 6,
   "metadata": {},
   "outputs": [],
   "source": [
    "message = f'{name}, {hello}. Welcome!.'"
   ]
  },
  {
   "cell_type": "code",
   "execution_count": 7,
   "metadata": {},
   "outputs": [
    {
     "name": "stdout",
     "output_type": "stream",
     "text": [
      "tahami, hello. Welcome!.\n"
     ]
    }
   ],
   "source": [
    "print(message)"
   ]
  },
  {
   "cell_type": "code",
   "execution_count": 8,
   "metadata": {},
   "outputs": [],
   "source": [
    "#list\n",
    "courses = ['comp', 'math']\n",
    "#extend add list to another list t make a single list \n",
    "#append add list to another list to make list within list\n",
    "\n",
    "#tuple\n",
    "courses = ('comp', 'math')\n",
    "\n",
    "#sets\n",
    "courses = {'comp', 'math'}\n",
    "\n",
    "#dict\n",
    "student = {'name':'tahami', 'age':24}"
   ]
  },
  {
   "cell_type": "code",
   "execution_count": 19,
   "metadata": {},
   "outputs": [
    {
     "data": {
      "text/plain": [
       "29"
      ]
     },
     "execution_count": 19,
     "metadata": {},
     "output_type": "execute_result"
    }
   ],
   "source": [
    "#leap year\n",
    "month_days = [0, 31, 28, 31, 30 , 31, 30, 31, 31, 30, 31, 30, 31]\n",
    "\n",
    "def is_leap(year):\n",
    "    return year % 4 == 0 and (year % 100 != 0 or year % 400 == 0)\n",
    "\n",
    "def days_in_month(month, year):\n",
    "    \n",
    "    if not 1 <= month <= 12:\n",
    "        'Invalid Month'\n",
    "        \n",
    "    if month == 2 and is_leap(year):\n",
    "        return 29\n",
    "    \n",
    "    return month_days[month]\n",
    "\n",
    "days_in_month(2, 2020)\n",
    "#is_leap(2020) "
   ]
  },
  {
   "cell_type": "code",
   "execution_count": 1,
   "metadata": {},
   "outputs": [],
   "source": [
    "import csv"
   ]
  },
  {
   "cell_type": "code",
   "execution_count": 2,
   "metadata": {},
   "outputs": [
    {
     "ename": "FileNotFoundError",
     "evalue": "[Errno 2] No such file or directory: 'names.csv'",
     "output_type": "error",
     "traceback": [
      "\u001b[1;31m---------------------------------------------------------------------------\u001b[0m",
      "\u001b[1;31mFileNotFoundError\u001b[0m                         Traceback (most recent call last)",
      "\u001b[1;32m<ipython-input-2-94883e2bd5ba>\u001b[0m in \u001b[0;36m<module>\u001b[1;34m\u001b[0m\n\u001b[1;32m----> 1\u001b[1;33m \u001b[1;32mwith\u001b[0m \u001b[0mopen\u001b[0m\u001b[1;33m(\u001b[0m\u001b[1;34m'names.csv'\u001b[0m\u001b[1;33m,\u001b[0m \u001b[1;34m'r'\u001b[0m\u001b[1;33m)\u001b[0m \u001b[1;32mas\u001b[0m \u001b[0mcsv_file\u001b[0m\u001b[1;33m:\u001b[0m\u001b[1;33m\u001b[0m\u001b[1;33m\u001b[0m\u001b[0m\n\u001b[0m\u001b[0;32m      2\u001b[0m     \u001b[0mcsv_reader\u001b[0m \u001b[1;33m=\u001b[0m \u001b[0mcsv\u001b[0m\u001b[1;33m.\u001b[0m\u001b[0mreader\u001b[0m\u001b[1;33m(\u001b[0m\u001b[0mcsv_file\u001b[0m\u001b[1;33m)\u001b[0m\u001b[1;33m\u001b[0m\u001b[1;33m\u001b[0m\u001b[0m\n\u001b[0;32m      3\u001b[0m \u001b[1;33m\u001b[0m\u001b[0m\n\u001b[0;32m      4\u001b[0m     \u001b[1;32mfor\u001b[0m \u001b[0mline\u001b[0m \u001b[1;32min\u001b[0m \u001b[0mcsv_reader\u001b[0m\u001b[1;33m:\u001b[0m\u001b[1;33m\u001b[0m\u001b[1;33m\u001b[0m\u001b[0m\n\u001b[0;32m      5\u001b[0m         \u001b[0mprint\u001b[0m\u001b[1;33m(\u001b[0m\u001b[0mline\u001b[0m\u001b[1;33m)\u001b[0m\u001b[1;33m\u001b[0m\u001b[1;33m\u001b[0m\u001b[0m\n",
      "\u001b[1;31mFileNotFoundError\u001b[0m: [Errno 2] No such file or directory: 'names.csv'"
     ]
    }
   ],
   "source": [
    "with open('names.csv', 'r') as csv_file:\n",
    "    csv_reader = csv.reader(csv_file)\n",
    "    \n",
    "    for line in csv_reader:\n",
    "        print(line)"
   ]
  },
  {
   "cell_type": "code",
   "execution_count": 3,
   "metadata": {},
   "outputs": [
    {
     "ename": "FileNotFoundError",
     "evalue": "[Errno 2] No such file or directory: 'names.csv'",
     "output_type": "error",
     "traceback": [
      "\u001b[1;31m---------------------------------------------------------------------------\u001b[0m",
      "\u001b[1;31mFileNotFoundError\u001b[0m                         Traceback (most recent call last)",
      "\u001b[1;32m<ipython-input-3-63fcc257649f>\u001b[0m in \u001b[0;36m<module>\u001b[1;34m\u001b[0m\n\u001b[1;32m----> 1\u001b[1;33m \u001b[1;32mwith\u001b[0m \u001b[0mopen\u001b[0m\u001b[1;33m(\u001b[0m\u001b[1;34m'names.csv'\u001b[0m\u001b[1;33m,\u001b[0m \u001b[1;34m'r'\u001b[0m\u001b[1;33m)\u001b[0m \u001b[1;32mas\u001b[0m \u001b[0mcsv_file\u001b[0m\u001b[1;33m:\u001b[0m\u001b[1;33m\u001b[0m\u001b[1;33m\u001b[0m\u001b[0m\n\u001b[0m\u001b[0;32m      2\u001b[0m     \u001b[0mcsv_reader\u001b[0m \u001b[1;33m=\u001b[0m \u001b[0mcsv\u001b[0m\u001b[1;33m.\u001b[0m\u001b[0mDictReader\u001b[0m\u001b[1;33m(\u001b[0m\u001b[0mcsv_file\u001b[0m\u001b[1;33m)\u001b[0m\u001b[1;33m\u001b[0m\u001b[1;33m\u001b[0m\u001b[0m\n\u001b[0;32m      3\u001b[0m \u001b[1;33m\u001b[0m\u001b[0m\n\u001b[0;32m      4\u001b[0m     \u001b[1;32mfor\u001b[0m \u001b[0mline\u001b[0m \u001b[1;32min\u001b[0m \u001b[0mcsv_reader\u001b[0m\u001b[1;33m:\u001b[0m\u001b[1;33m\u001b[0m\u001b[1;33m\u001b[0m\u001b[0m\n\u001b[0;32m      5\u001b[0m         \u001b[0mprint\u001b[0m\u001b[1;33m(\u001b[0m\u001b[0mline\u001b[0m\u001b[1;33m)\u001b[0m\u001b[1;33m\u001b[0m\u001b[1;33m\u001b[0m\u001b[0m\n",
      "\u001b[1;31mFileNotFoundError\u001b[0m: [Errno 2] No such file or directory: 'names.csv'"
     ]
    }
   ],
   "source": [
    "with open('names.csv', 'r') as csv_file:\n",
    "    csv_reader = csv.DictReader(csv_file)\n",
    "    \n",
    "    for line in csv_reader:\n",
    "        print(line)"
   ]
  },
  {
   "cell_type": "code",
   "execution_count": 6,
   "metadata": {},
   "outputs": [
    {
     "name": "stdout",
     "output_type": "stream",
     "text": [
      "How many numbers?3\n",
      "ENter Number: 1\n",
      "ENter Number: 2\n",
      "ENter Number: 3\n",
      "2.0 is the Average\n"
     ]
    }
   ],
   "source": [
    "# find avg of number\n",
    "total = 0\n",
    "num = int(input(\"How many numbers?\"))\n",
    "\n",
    "for n in range(num):\n",
    "    number = float(input(\"ENter Number: \"))\n",
    "    total+= number\n",
    "    \n",
    "print(f\"{(total/num)} is the Average\")"
   ]
  },
  {
   "cell_type": "code",
   "execution_count": 7,
   "metadata": {},
   "outputs": [
    {
     "name": "stdout",
     "output_type": "stream",
     "text": [
      "Enter Number4\n",
      "10.0\n"
     ]
    }
   ],
   "source": [
    "# Sum of first n number\n",
    "\n",
    "n = int(input(\"Enter Number\"))\n",
    "\n",
    "sum = (n * (n + 1)) / 2\n",
    "\n",
    "print(sum)"
   ]
  },
  {
   "cell_type": "code",
   "execution_count": 10,
   "metadata": {},
   "outputs": [
    {
     "name": "stdout",
     "output_type": "stream",
     "text": [
      "Taham\n"
     ]
    }
   ],
   "source": [
    "# get current username \n",
    "\n",
    "import getpass as gp\n",
    "\n",
    "print(gp.getuser())"
   ]
  },
  {
   "cell_type": "code",
   "execution_count": 13,
   "metadata": {},
   "outputs": [
    {
     "name": "stdout",
     "output_type": "stream",
     "text": [
      "['.git', '.ipynb_checkpoints', 'intro.ipynb', 'README.md']\n",
      "3.8.5 (default, Sep  3 2020, 21:29:08) [MSC v.1916 64 bit (AMD64)]\n"
     ]
    }
   ],
   "source": [
    "# Access environmental variable\n",
    "\n",
    "import os\n",
    "import sys\n",
    "\n",
    "print(os.listdir())\n",
    "\n",
    "print(sys.version)"
   ]
  },
  {
   "cell_type": "code",
   "execution_count": 14,
   "metadata": {},
   "outputs": [
    {
     "name": "stdout",
     "output_type": "stream",
     "text": [
      "Enter radius:3\n",
      "18.84\n"
     ]
    }
   ],
   "source": [
    "#Area of circel\n",
    "\n",
    "rad = int(input(\"Enter radius:\"))\n",
    "\n",
    "print(f\"{rad*2*3.14}\")"
   ]
  },
  {
   "cell_type": "code",
   "execution_count": null,
   "metadata": {},
   "outputs": [],
   "source": [
    "# Reverse a string\n",
    "\n",
    "first_name = input(\"Enter First name:\")"
   ]
  },
  {
   "cell_type": "code",
   "execution_count": 16,
   "metadata": {},
   "outputs": [
    {
     "name": "stdout",
     "output_type": "stream",
     "text": [
      "Input some numners3 4 5\n",
      "('3 4 5',)\n"
     ]
    }
   ],
   "source": [
    "# Create list and tuple with cs no.\n",
    "\n",
    "values = input(\"Input some numners\")\n",
    "\n",
    "lst = values.split(\",\")\n",
    "tup = tuple(lst)\n",
    "\n",
    "print(tup)"
   ]
  },
  {
   "cell_type": "code",
   "execution_count": 22,
   "metadata": {},
   "outputs": [
    {
     "name": "stdout",
     "output_type": "stream",
     "text": [
      "4 days, 0:00:00\n"
     ]
    }
   ],
   "source": [
    "# calcuate days\n",
    "import datetime as dt\n",
    "\n",
    "firstDate = dt.date(2019, 2, 2)\n",
    "secondDate = dt.date(2019, 2, 6)\n",
    "\n",
    "delta = firstDate - secondDate\n",
    "print(abs(delta))"
   ]
  },
  {
   "cell_type": "code",
   "execution_count": 24,
   "metadata": {},
   "outputs": [
    {
     "name": "stdout",
     "output_type": "stream",
     "text": [
      "Enter Number:2\n",
      "Even\n"
     ]
    }
   ],
   "source": [
    "#Even or odd\n",
    "\n",
    "number = int(input(\"Enter Number:\"))\n",
    "\n",
    "if number%2==0:\n",
    "    print(\"Even\")\n",
    "else:\n",
    "    print(\"Odd\")"
   ]
  },
  {
   "cell_type": "code",
   "execution_count": 26,
   "metadata": {},
   "outputs": [
    {
     "name": "stdout",
     "output_type": "stream",
     "text": [
      "Enter Number:345\n",
      "Rev of this number is:543\n"
     ]
    }
   ],
   "source": [
    "#Reverse a number\n",
    "number = int(input(\"Enter Number:\"))\n",
    "\n",
    "print(f\"Rev of this number is:{str(number)[::-1]}\")\n"
   ]
  },
  {
   "cell_type": "code",
   "execution_count": 5,
   "metadata": {},
   "outputs": [
    {
     "data": {
      "text/plain": [
       "[0, 2, 3]"
      ]
     },
     "execution_count": 5,
     "metadata": {},
     "output_type": "execute_result"
    }
   ],
   "source": [
    "#Capital Indexes\n",
    "\n",
    "def capital_indexes(x):\n",
    "    lst = []\n",
    "    for i in range(len(x)):\n",
    "        if x[i].isupper():\n",
    "            lst.append(i)\n",
    "    return lst\n",
    "\n",
    "capital_indexes(\"HeLLo\")"
   ]
  },
  {
   "cell_type": "code",
   "execution_count": 22,
   "metadata": {},
   "outputs": [
    {
     "data": {
      "text/plain": [
       "''"
      ]
     },
     "execution_count": 22,
     "metadata": {},
     "output_type": "execute_result"
    }
   ],
   "source": [
    "#Middle Letter\n",
    " \n",
    "def mid(x):\n",
    "    if len(x) <3:\n",
    "        print(\"Sorry\")\n",
    "    else:\n",
    "        idx = int(len(x)/2)\n",
    "        #print(idx)\n",
    "        if x[0] != x[idx] and x[len(x)-1]!= x[idx]:\n",
    "        \treturn x[idx]\n",
    "        else:\n",
    "            print(\"\")\n",
    "\n",
    "def mid1(x):\n",
    "    if len(x) % 2 == 0:\n",
    "        return \"\"\n",
    "    else:\n",
    "        return x[int(len(x)/2)]\n",
    "            \n",
    "mid1(\"abas\")"
   ]
  },
  {
   "cell_type": "code",
   "execution_count": 32,
   "metadata": {},
   "outputs": [
    {
     "data": {
      "text/plain": [
       "86"
      ]
     },
     "execution_count": 32,
     "metadata": {},
     "output_type": "execute_result"
    }
   ],
   "source": [
    "# Random number\n",
    "import random\n",
    "\n",
    "def random_number():\n",
    "    return random.randint(1, 100)\n",
    "\n",
    "random_number()"
   ]
  },
  {
   "cell_type": "code",
   "execution_count": 35,
   "metadata": {},
   "outputs": [],
   "source": [
    "# Type check\n",
    "\n",
    "def only_ints(a,b):\n",
    "    if type(a)==int and type(b)==int:\n",
    "        return True\n",
    "    else:\n",
    "        False\n",
    "        \n",
    "only_ints(\"a\",3)"
   ]
  },
  {
   "cell_type": "code",
   "execution_count": 37,
   "metadata": {},
   "outputs": [
    {
     "data": {
      "text/plain": [
       "True"
      ]
     },
     "execution_count": 37,
     "metadata": {},
     "output_type": "execute_result"
    }
   ],
   "source": [
    "#Anagram\n",
    "\n",
    "def is_anagram(word1, word2):\n",
    "    x1 = list(word1)\n",
    "    x2 = list(word2)\n",
    "    x1.sort()\n",
    "    x2.sort()\n",
    "    if x1 == x2:\n",
    "        return True\n",
    "    else:\n",
    "        return False\n",
    "    \n",
    "is_anagram(\"python\", \"ythpon\") "
   ]
  },
  {
   "cell_type": "code",
   "execution_count": 7,
   "metadata": {},
   "outputs": [
    {
     "data": {
      "text/plain": [
       "'sao paulo'"
      ]
     },
     "execution_count": 7,
     "metadata": {},
     "output_type": "execute_result"
    }
   ],
   "source": [
    "#Finf the destination city\n",
    "\n",
    "def descity(paths):\n",
    "    outgoing_count = {}\n",
    "    for path in paths:\n",
    "        city_a, city_b = path\n",
    "        #print(outgoing_count)\n",
    "        outgoing_count[city_a] = outgoing_count.get(city_a, 0) + 1\n",
    "        outgoing_count[city_b] = outgoing_count.get(city_b, 0)\n",
    "        #print(outgoing_count)\n",
    "    #print(outgoing_count)\n",
    "        \n",
    "    for city in outgoing_count:\n",
    "        if outgoing_count[city] == 0:\n",
    "            return city\n",
    "        \n",
    "descity([[\"london\", \"newyork\"], [\"newyork\", \"lima\"], [\"lima\", \"sao paulo\"], [\"london\", \"lima\"]])"
   ]
  },
  {
   "cell_type": "code",
   "execution_count": 26,
   "metadata": {},
   "outputs": [
    {
     "data": {
      "text/plain": [
       "[4, 0, 1, 1, 3]"
      ]
     },
     "execution_count": 26,
     "metadata": {},
     "output_type": "execute_result"
    }
   ],
   "source": [
    "#Count number that are less than the current number\n",
    "\n",
    "def sml(nums):\n",
    "    output = []\n",
    "    for j in range(len(nums)):\n",
    "        count = 0\n",
    "        for i in range(len(nums)):\n",
    "            if nums[i] < nums[j]:\n",
    "                count+=1\n",
    "        output.append(count)\n",
    "    return(output)\n",
    " \n",
    "def fast_sml(nums):\n",
    "    sorted_nums = sorted(nums, reverse = True)\n",
    "    sm_count = {}\n",
    "    for i in range(len(sorted_nums)-1):\n",
    "        curr = sorted_nums[i]\n",
    "        nxt = sorted_nums[i+1]\n",
    "        if nxt < curr:\n",
    "            rem = len(sorted_nums)-(i+1)\n",
    "            sm_count[curr] = rem\n",
    "            \n",
    "    sm_count[sorted_nums[-1]] = 0\n",
    "    \n",
    "    output = []\n",
    "    for num in nums:\n",
    "        output.append(sm_count[num])\n",
    "        \n",
    "    return output\n",
    "            \n",
    " \n",
    "\n",
    "sml([8,1,2,2,3])\n",
    "fast_sml([8,1,2,2,3])"
   ]
  },
  {
   "cell_type": "code",
   "execution_count": 6,
   "metadata": {},
   "outputs": [
    {
     "data": {
      "text/plain": [
       "1"
      ]
     },
     "execution_count": 6,
     "metadata": {},
     "output_type": "execute_result"
    }
   ],
   "source": [
    "# Binary Search\n",
    "\n",
    "def search(nums, target):\n",
    "    start = 0\n",
    "    end = len(nums)-1\n",
    "    \n",
    "    while start <= end:\n",
    "        mid = start + end // 2\n",
    "        num = nums[mid]\n",
    "        if num == target:\n",
    "            return mid\n",
    "        if num > target:\n",
    "            end = mid-1\n",
    "        else:\n",
    "            start = mid+1\n",
    "    return -1\n",
    "\n",
    "\n",
    "search([-1, 0, 3, 5, 9, 12], 0)            "
   ]
  },
  {
   "cell_type": "code",
   "execution_count": 13,
   "metadata": {},
   "outputs": [
    {
     "name": "stdout",
     "output_type": "stream",
     "text": [
      "9\n"
     ]
    }
   ],
   "source": [
    "# Longest palindrome\n",
    "def longpalindrome(s):\n",
    "    char_count = {}\n",
    "    for char in s:\n",
    "        char_count[char] = char_count.get(char, 0)+1\n",
    "        \n",
    "    final_count = 0\n",
    "    odd_is_present = False\n",
    "    for char in char_count:\n",
    "        if char_count[char] % 2 ==0:\n",
    "            final_count += char_count[char]\n",
    "        else:\n",
    "            final_count += (char_count[char]-1)\n",
    "            odd_is_present = True\n",
    "            \n",
    "    if odd_is_present:\n",
    "        final_count += 1\n",
    "        \n",
    "def longest_palindrome2(string):\n",
    "    longest = \"\"\n",
    "    for i in range(len(string)):\n",
    "        for j in range(i+1, len(string) + 1):\n",
    "            if string[i:j] == string[i:j][::-1] and len(string[i:j]) > len(longest):\n",
    "                longest = string[i:j]\n",
    "    return len(longest)\n",
    "\n",
    "        \n",
    "longpalindrome(\"abbccdccbb\")\n",
    "print(longest_palindrome2(\"abbccdccbb\")) # 3       "
   ]
  },
  {
   "cell_type": "code",
   "execution_count": 64,
   "metadata": {},
   "outputs": [
    {
     "data": {
      "text/plain": [
       "18"
      ]
     },
     "execution_count": 64,
     "metadata": {},
     "output_type": "execute_result"
    }
   ],
   "source": [
    "# Max no of coins\n",
    "\n",
    "def maxCoins(piles):\n",
    "    sum = 0\n",
    "    for i in range(len(piles)//3):\n",
    "        stack = []\n",
    "        stack = sorted(piles[i*3: i*3+3])\n",
    "        sum += stack[1]\n",
    "        \n",
    "    return sum\n",
    "\n",
    "def maxCoins2(piles):\n",
    "    spiles = sorted(piles)\n",
    "    print(piles)\n",
    "    print(spiles)\n",
    "    en = len(piles)-1\n",
    "    ov = 0\n",
    "    for i in range(len(piles)//3):\n",
    "        print(spiles[en-(i*2)-1])\n",
    "        ov += spiles[en-(i*2)-1]\n",
    "        \n",
    "    return ov\n",
    "\n",
    "def maxCoins3(piles):\n",
    "    return sum(sorted(piles)[len(piles)//3::2])\n",
    "\n",
    "maxCoins3([9,8,7,6,5,1,2,3,4])"
   ]
  },
  {
   "cell_type": "code",
   "execution_count": 69,
   "metadata": {},
   "outputs": [
    {
     "name": "stdout",
     "output_type": "stream",
     "text": [
      "yahoo\n"
     ]
    }
   ],
   "source": [
    "# Design Browser history\n",
    "\n",
    "class BrowserHistory:\n",
    "    \n",
    "    def __init__(self, homepage: str):\n",
    "        self.history = [homepage]\n",
    "        self.curr = 0\n",
    "        \n",
    "    def visit(self, url: str) -> None:\n",
    "        self.curr += 1\n",
    "        self.history = self.history[0: self.curr]\n",
    "        self.history.append(url)\n",
    "        \n",
    "    def back(self, steps: int) -> str:\n",
    "        self.curr = max(0, self.curr-steps)\n",
    "        return self.history[self.curr]\n",
    "    \n",
    "    def forward(self, steps: int) -> str:\n",
    "        self.curr = min(len(self.history)-1, self.curr+steps)\n",
    "        return self.history[self.curr]\n",
    "        \n",
    "        \n",
    "obj = BrowserHistory(\"homepage\")\n",
    "obj.visit(\"url\")\n",
    "obj.visit(\"yahoo\")\n",
    "obj.visit(\"google\")\n",
    "param_2 = obj.back(3)\n",
    "param_3 = obj.forward(2)\n",
    "print(param_3)"
   ]
  },
  {
   "cell_type": "code",
   "execution_count": 75,
   "metadata": {},
   "outputs": [
    {
     "ename": "AttributeError",
     "evalue": "'list' object has no attribute 'val'",
     "output_type": "error",
     "traceback": [
      "\u001b[1;31m---------------------------------------------------------------------------\u001b[0m",
      "\u001b[1;31mAttributeError\u001b[0m                            Traceback (most recent call last)",
      "\u001b[1;32m<ipython-input-75-23d07f16153e>\u001b[0m in \u001b[0;36m<module>\u001b[1;34m\u001b[0m\n\u001b[0;32m     11\u001b[0m \u001b[1;32mwhile\u001b[0m \u001b[0mqueue\u001b[0m\u001b[1;33m:\u001b[0m\u001b[1;33m\u001b[0m\u001b[1;33m\u001b[0m\u001b[0m\n\u001b[0;32m     12\u001b[0m     \u001b[0mnode\u001b[0m \u001b[1;33m=\u001b[0m \u001b[0mqueue\u001b[0m\u001b[1;33m.\u001b[0m\u001b[0mpop\u001b[0m\u001b[1;33m(\u001b[0m\u001b[1;36m0\u001b[0m\u001b[1;33m)\u001b[0m\u001b[1;33m\u001b[0m\u001b[1;33m\u001b[0m\u001b[0m\n\u001b[1;32m---> 13\u001b[1;33m     \u001b[0mprint\u001b[0m\u001b[1;33m(\u001b[0m\u001b[0mnode\u001b[0m\u001b[1;33m.\u001b[0m\u001b[0mval\u001b[0m\u001b[1;33m)\u001b[0m\u001b[1;33m\u001b[0m\u001b[1;33m\u001b[0m\u001b[0m\n\u001b[0m\u001b[0;32m     14\u001b[0m     \u001b[1;31m#root.append(node.left)\u001b[0m\u001b[1;33m\u001b[0m\u001b[1;33m\u001b[0m\u001b[1;33m\u001b[0m\u001b[0m\n",
      "\u001b[1;31mAttributeError\u001b[0m: 'list' object has no attribute 'val'"
     ]
    }
   ],
   "source": [
    "# Delete Nodes and return Forest\n",
    "\n",
    "class Solution:\n",
    "    def delNodes(self, root, to_delete):\n",
    "        pass\n",
    "    \n",
    "    \n",
    "root = [1,2,3,4,5,6,7]\n",
    "queue = [root]\n",
    "\n",
    "while queue:\n",
    "    node = queue.pop(0)\n",
    "    print(node.val)\n",
    "    #root.append(node.left)"
   ]
  },
  {
   "cell_type": "code",
   "execution_count": null,
   "metadata": {},
   "outputs": [],
   "source": []
  }
 ],
 "metadata": {
  "kernelspec": {
   "display_name": "Python 3",
   "language": "python",
   "name": "python3"
  },
  "language_info": {
   "codemirror_mode": {
    "name": "ipython",
    "version": 3
   },
   "file_extension": ".py",
   "mimetype": "text/x-python",
   "name": "python",
   "nbconvert_exporter": "python",
   "pygments_lexer": "ipython3",
   "version": "3.8.5"
  }
 },
 "nbformat": 4,
 "nbformat_minor": 4
}
